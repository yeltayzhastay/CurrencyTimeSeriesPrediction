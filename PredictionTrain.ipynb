{
 "cells": [
  {
   "cell_type": "code",
   "execution_count": 2,
   "metadata": {},
   "outputs": [],
   "source": [
    "import numpy as np\n",
    "import pandas as pd\n",
    "from sklearn.preprocessing import MinMaxScaler\n",
    "\n",
    "import matplotlib as mpl\n",
    "import matplotlib.pyplot as plt\n",
    "import os\n",
    "\n",
    "mpl.rcParams['figure.figsize'] = (8, 6)\n",
    "mpl.rcParams['axes.grid'] = False\n",
    "\n",
    "import warnings\n",
    "warnings.filterwarnings('ignore')"
   ]
  },
  {
   "cell_type": "code",
   "execution_count": 3,
   "metadata": {},
   "outputs": [
    {
     "data": {
      "text/html": [
       "<div>\n",
       "<style scoped>\n",
       "    .dataframe tbody tr th:only-of-type {\n",
       "        vertical-align: middle;\n",
       "    }\n",
       "\n",
       "    .dataframe tbody tr th {\n",
       "        vertical-align: top;\n",
       "    }\n",
       "\n",
       "    .dataframe thead th {\n",
       "        text-align: right;\n",
       "    }\n",
       "</style>\n",
       "<table border=\"1\" class=\"dataframe\">\n",
       "  <thead>\n",
       "    <tr style=\"text-align: right;\">\n",
       "      <th></th>\n",
       "      <th>Open</th>\n",
       "      <th>High</th>\n",
       "      <th>Low</th>\n",
       "      <th>Close</th>\n",
       "      <th>Adj Close</th>\n",
       "      <th>Volume</th>\n",
       "    </tr>\n",
       "    <tr>\n",
       "      <th>Date</th>\n",
       "      <th></th>\n",
       "      <th></th>\n",
       "      <th></th>\n",
       "      <th></th>\n",
       "      <th></th>\n",
       "      <th></th>\n",
       "    </tr>\n",
       "  </thead>\n",
       "  <tbody>\n",
       "    <tr>\n",
       "      <th>2013-03-19</th>\n",
       "      <td>16.410713</td>\n",
       "      <td>16.463215</td>\n",
       "      <td>16.017857</td>\n",
       "      <td>16.231787</td>\n",
       "      <td>14.187840</td>\n",
       "      <td>526775200.0</td>\n",
       "    </tr>\n",
       "    <tr>\n",
       "      <th>2013-03-20</th>\n",
       "      <td>16.336430</td>\n",
       "      <td>16.343929</td>\n",
       "      <td>16.056786</td>\n",
       "      <td>16.145714</td>\n",
       "      <td>14.112605</td>\n",
       "      <td>308660800.0</td>\n",
       "    </tr>\n",
       "    <tr>\n",
       "      <th>2013-03-21</th>\n",
       "      <td>16.079287</td>\n",
       "      <td>16.356428</td>\n",
       "      <td>16.075001</td>\n",
       "      <td>16.168928</td>\n",
       "      <td>14.132895</td>\n",
       "      <td>383255600.0</td>\n",
       "    </tr>\n",
       "    <tr>\n",
       "      <th>2013-03-22</th>\n",
       "      <td>16.235001</td>\n",
       "      <td>16.503571</td>\n",
       "      <td>16.182501</td>\n",
       "      <td>16.496786</td>\n",
       "      <td>14.419469</td>\n",
       "      <td>395105200.0</td>\n",
       "    </tr>\n",
       "    <tr>\n",
       "      <th>2013-03-25</th>\n",
       "      <td>16.596071</td>\n",
       "      <td>16.783930</td>\n",
       "      <td>16.492144</td>\n",
       "      <td>16.556429</td>\n",
       "      <td>14.471601</td>\n",
       "      <td>501135600.0</td>\n",
       "    </tr>\n",
       "    <tr>\n",
       "      <th>...</th>\n",
       "      <td>...</td>\n",
       "      <td>...</td>\n",
       "      <td>...</td>\n",
       "      <td>...</td>\n",
       "      <td>...</td>\n",
       "      <td>...</td>\n",
       "    </tr>\n",
       "    <tr>\n",
       "      <th>2021-02-19</th>\n",
       "      <td>130.240005</td>\n",
       "      <td>130.710007</td>\n",
       "      <td>128.800003</td>\n",
       "      <td>129.869995</td>\n",
       "      <td>129.869995</td>\n",
       "      <td>87525900.0</td>\n",
       "    </tr>\n",
       "    <tr>\n",
       "      <th>2021-02-22</th>\n",
       "      <td>128.009995</td>\n",
       "      <td>129.720001</td>\n",
       "      <td>125.599998</td>\n",
       "      <td>126.000000</td>\n",
       "      <td>126.000000</td>\n",
       "      <td>103607600.0</td>\n",
       "    </tr>\n",
       "    <tr>\n",
       "      <th>2021-02-23</th>\n",
       "      <td>123.760002</td>\n",
       "      <td>126.709999</td>\n",
       "      <td>118.389999</td>\n",
       "      <td>125.860001</td>\n",
       "      <td>125.860001</td>\n",
       "      <td>157859100.0</td>\n",
       "    </tr>\n",
       "    <tr>\n",
       "      <th>2021-02-24</th>\n",
       "      <td>124.940002</td>\n",
       "      <td>125.559998</td>\n",
       "      <td>122.230003</td>\n",
       "      <td>125.349998</td>\n",
       "      <td>125.349998</td>\n",
       "      <td>110691500.0</td>\n",
       "    </tr>\n",
       "    <tr>\n",
       "      <th>2021-02-25</th>\n",
       "      <td>124.680000</td>\n",
       "      <td>126.459999</td>\n",
       "      <td>120.540001</td>\n",
       "      <td>120.989998</td>\n",
       "      <td>120.989998</td>\n",
       "      <td>147306500.0</td>\n",
       "    </tr>\n",
       "  </tbody>\n",
       "</table>\n",
       "<p>2000 rows × 6 columns</p>\n",
       "</div>"
      ],
      "text/plain": [
       "                  Open        High         Low       Close   Adj Close  \\\n",
       "Date                                                                     \n",
       "2013-03-19   16.410713   16.463215   16.017857   16.231787   14.187840   \n",
       "2013-03-20   16.336430   16.343929   16.056786   16.145714   14.112605   \n",
       "2013-03-21   16.079287   16.356428   16.075001   16.168928   14.132895   \n",
       "2013-03-22   16.235001   16.503571   16.182501   16.496786   14.419469   \n",
       "2013-03-25   16.596071   16.783930   16.492144   16.556429   14.471601   \n",
       "...                ...         ...         ...         ...         ...   \n",
       "2021-02-19  130.240005  130.710007  128.800003  129.869995  129.869995   \n",
       "2021-02-22  128.009995  129.720001  125.599998  126.000000  126.000000   \n",
       "2021-02-23  123.760002  126.709999  118.389999  125.860001  125.860001   \n",
       "2021-02-24  124.940002  125.559998  122.230003  125.349998  125.349998   \n",
       "2021-02-25  124.680000  126.459999  120.540001  120.989998  120.989998   \n",
       "\n",
       "                 Volume  \n",
       "Date                     \n",
       "2013-03-19  526775200.0  \n",
       "2013-03-20  308660800.0  \n",
       "2013-03-21  383255600.0  \n",
       "2013-03-22  395105200.0  \n",
       "2013-03-25  501135600.0  \n",
       "...                 ...  \n",
       "2021-02-19   87525900.0  \n",
       "2021-02-22  103607600.0  \n",
       "2021-02-23  157859100.0  \n",
       "2021-02-24  110691500.0  \n",
       "2021-02-25  147306500.0  \n",
       "\n",
       "[2000 rows x 6 columns]"
      ]
     },
     "execution_count": 3,
     "metadata": {},
     "output_type": "execute_result"
    }
   ],
   "source": [
    "df = pd.read_csv(\"AAPL.csv\", sep=',')\n",
    "df.index = pd.to_datetime(df.Date)\n",
    "df = df.iloc[:, 1:]\n",
    "df = df.drop_duplicates()\n",
    "df = df.dropna()\n",
    "df = df.sort_index()\n",
    "df = df.iloc[-2000:]\n",
    "df"
   ]
  },
  {
   "cell_type": "code",
   "execution_count": 4,
   "metadata": {},
   "outputs": [],
   "source": [
    "train_size = 0.95\n",
    "ranges_test = int(df[['Close']].shape[0]*train_size)\n",
    "\n",
    "train = df[['Close']].iloc[:ranges_test]\n",
    "test = df[['Close']].iloc[ranges_test:]"
   ]
  },
  {
   "cell_type": "code",
   "execution_count": 5,
   "metadata": {},
   "outputs": [
    {
     "name": "stdout",
     "output_type": "stream",
     "text": [
      "[[0.7610138 ]\n",
      " [0.78175483]\n",
      " [0.77502171]\n",
      " [0.78833313]\n",
      " [0.79591756]]\n"
     ]
    }
   ],
   "source": [
    "from sklearn.preprocessing import MinMaxScaler\n",
    "scaler = MinMaxScaler()\n",
    "scaler.fit(df[['Close']])\n",
    "\n",
    "scaled_train = scaler.transform(train)\n",
    "scaled_test = scaler.transform(test)\n",
    "print(scaled_train[-5:])"
   ]
  },
  {
   "cell_type": "code",
   "execution_count": 155,
   "metadata": {},
   "outputs": [],
   "source": [
    "from tensorflow.keras.preprocessing.sequence import TimeseriesGenerator\n",
    "\n",
    "n_input = 5\n",
    "n_features = 1\n",
    "generator = TimeseriesGenerator(scaled_train, scaled_train, length = n_input, batch_size=1, shuffle=True)"
   ]
  },
  {
   "cell_type": "code",
   "execution_count": 156,
   "metadata": {},
   "outputs": [],
   "source": [
    "from tensorflow.keras.models import Sequential\n",
    "from tensorflow.keras.layers import Dense, LSTM, Dropout, Activation\n",
    "\n",
    "import tensorflow as tf"
   ]
  },
  {
   "cell_type": "code",
   "execution_count": 157,
   "metadata": {},
   "outputs": [
    {
     "name": "stdout",
     "output_type": "stream",
     "text": [
      "Model: \"sequential_10\"\n",
      "_________________________________________________________________\n",
      "Layer (type)                 Output Shape              Param #   \n",
      "=================================================================\n",
      "lstm_10 (LSTM)               (None, 12)                672       \n",
      "_________________________________________________________________\n",
      "dense_19 (Dense)             (None, 1)                 13        \n",
      "=================================================================\n",
      "Total params: 685\n",
      "Trainable params: 685\n",
      "Non-trainable params: 0\n",
      "_________________________________________________________________\n"
     ]
    }
   ],
   "source": [
    "model = Sequential()\n",
    "model.add(LSTM(12,activation=\"relu\",input_shape=(n_input,n_features)))\n",
    "model.add(Dense(units=1, activation='linear'))\n",
    "model.compile(optimizer=\"adam\",loss=\"mse\")\n",
    "\n",
    "model.summary()"
   ]
  },
  {
   "cell_type": "code",
   "execution_count": 158,
   "metadata": {},
   "outputs": [],
   "source": [
    "validation_gen = TimeseriesGenerator(scaled_test, scaled_test, length=n_input, batch_size=1)"
   ]
  },
  {
   "cell_type": "code",
   "execution_count": 159,
   "metadata": {
    "scrolled": true
   },
   "outputs": [
    {
     "name": "stdout",
     "output_type": "stream",
     "text": [
      "Epoch 1/10\n",
      "1895/1895 [==============================] - 4s 2ms/step - loss: 0.0130 - val_loss: 8.6177e-04\n",
      "Epoch 2/10\n",
      "1895/1895 [==============================] - 3s 2ms/step - loss: 1.1463e-04 - val_loss: 0.0012\n",
      "Epoch 3/10\n",
      "1895/1895 [==============================] - 3s 2ms/step - loss: 1.3847e-04 - val_loss: 0.0014\n",
      "Epoch 4/10\n",
      "1895/1895 [==============================] - 3s 2ms/step - loss: 1.4115e-04 - val_loss: 7.0193e-04\n",
      "Epoch 5/10\n",
      "1895/1895 [==============================] - 3s 2ms/step - loss: 1.9657e-04 - val_loss: 8.1253e-04\n",
      "Epoch 6/10\n",
      "1895/1895 [==============================] - 3s 2ms/step - loss: 1.1221e-04 - val_loss: 6.5756e-04\n",
      "Epoch 7/10\n",
      "1895/1895 [==============================] - 3s 2ms/step - loss: 1.1247e-04 - val_loss: 0.0017\n",
      "Epoch 8/10\n",
      "1895/1895 [==============================] - 3s 2ms/step - loss: 1.1058e-04 - val_loss: 0.0011\n",
      "Epoch 9/10\n",
      "1895/1895 [==============================] - 3s 2ms/step - loss: 1.8841e-04 - val_loss: 0.0044\n",
      "Epoch 10/10\n",
      "1895/1895 [==============================] - 3s 2ms/step - loss: 1.1042e-04 - val_loss: 6.2531e-04\n",
      "Wall time: 32.9 s\n"
     ]
    },
    {
     "data": {
      "text/plain": [
       "<tensorflow.python.keras.callbacks.History at 0x1d829c18288>"
      ]
     },
     "execution_count": 159,
     "metadata": {},
     "output_type": "execute_result"
    }
   ],
   "source": [
    "%%time\n",
    "\n",
    "model.fit_generator(generator, validation_data=validation_gen, epochs=10)"
   ]
  },
  {
   "cell_type": "code",
   "execution_count": 160,
   "metadata": {},
   "outputs": [
    {
     "data": {
      "text/plain": [
       "<AxesSubplot:title={'center':'Эпоха мен жоғалту қисығының графигі'}>"
      ]
     },
     "execution_count": 160,
     "metadata": {},
     "output_type": "execute_result"
    },
    {
     "data": {
      "image/png": "[encoded data removed]",
      "text/plain": [
       "<Figure size 576x432 with 1 Axes>"
      ]
     },
     "metadata": {
      "needs_background": "light"
     },
     "output_type": "display_data"
    }
   ],
   "source": [
    "pd.DataFrame(model.history.history).plot(title=\"Жоғалту графигі\")"
   ]
  },
  {
   "cell_type": "code",
   "execution_count": 161,
   "metadata": {},
   "outputs": [],
   "source": [
    "days = 60"
   ]
  },
  {
   "cell_type": "code",
   "execution_count": 257,
   "metadata": {},
   "outputs": [
    {
     "data": {
      "text/plain": [
       "[array([0.7851534], dtype=float32),\n",
       " array([0.7925627], dtype=float32),\n",
       " array([0.8161155], dtype=float32),\n",
       " array([0.82041407], dtype=float32),\n",
       " array([0.8265065], dtype=float32),\n",
       " array([0.83007646], dtype=float32),\n",
       " array([0.82715476], dtype=float32),\n",
       " array([0.81270325], dtype=float32),\n",
       " array([0.81027055], dtype=float32),\n",
       " array([0.8057252], dtype=float32),\n",
       " array([0.79890597], dtype=float32),\n",
       " array([0.79339623], dtype=float32),\n",
       " array([0.79168344], dtype=float32),\n",
       " array([0.79413664], dtype=float32),\n",
       " array([0.77894783], dtype=float32),\n",
       " array([0.7834481], dtype=float32),\n",
       " array([0.76678693], dtype=float32),\n",
       " array([0.7560514], dtype=float32),\n",
       " array([0.7542889], dtype=float32),\n",
       " array([0.76805735], dtype=float32),\n",
       " array([0.7842461], dtype=float32),\n",
       " array([0.7950679], dtype=float32),\n",
       " array([0.79743516], dtype=float32),\n",
       " array([0.79961324], dtype=float32),\n",
       " array([0.8099263], dtype=float32),\n",
       " array([0.8114439], dtype=float32),\n",
       " array([0.81294525], dtype=float32),\n",
       " array([0.8188615], dtype=float32),\n",
       " array([0.8199786], dtype=float32),\n",
       " array([0.8156769], dtype=float32),\n",
       " array([0.8155776], dtype=float32),\n",
       " array([0.8111063], dtype=float32),\n",
       " array([0.79722035], dtype=float32),\n",
       " array([0.7937548], dtype=float32),\n",
       " array([0.79412425], dtype=float32),\n",
       " array([0.79446876], dtype=float32),\n",
       " array([0.8022245], dtype=float32),\n",
       " array([0.8189635], dtype=float32),\n",
       " array([0.8288218], dtype=float32),\n",
       " array([0.8357204], dtype=float32),\n",
       " array([0.839273], dtype=float32),\n",
       " array([0.846063], dtype=float32),\n",
       " array([0.8493035], dtype=float32),\n",
       " array([0.8430836], dtype=float32),\n",
       " array([0.8457836], dtype=float32),\n",
       " array([0.84400725], dtype=float32),\n",
       " array([0.8406733], dtype=float32),\n",
       " array([0.85582864], dtype=float32),\n",
       " array([0.8636584], dtype=float32),\n",
       " array([0.871892], dtype=float32),\n",
       " array([0.8727714], dtype=float32),\n",
       " array([0.8806833], dtype=float32),\n",
       " array([0.8910979], dtype=float32),\n",
       " array([0.8944315], dtype=float32),\n",
       " array([0.90018916], dtype=float32),\n",
       " array([0.9174459], dtype=float32),\n",
       " array([0.92332864], dtype=float32),\n",
       " array([0.92393327], dtype=float32),\n",
       " array([0.9230287], dtype=float32),\n",
       " array([0.91257143], dtype=float32),\n",
       " array([0.9090321], dtype=float32),\n",
       " array([0.8919115], dtype=float32),\n",
       " array([0.89650834], dtype=float32),\n",
       " array([0.89914036], dtype=float32),\n",
       " array([0.8942307], dtype=float32),\n",
       " array([0.89153254], dtype=float32),\n",
       " array([0.8982432], dtype=float32),\n",
       " array([0.89322484], dtype=float32),\n",
       " array([0.8848194], dtype=float32),\n",
       " array([0.8842503], dtype=float32),\n",
       " array([0.89438534], dtype=float32),\n",
       " array([0.90968525], dtype=float32),\n",
       " array([0.9266397], dtype=float32),\n",
       " array([0.95079076], dtype=float32),\n",
       " array([0.9689975], dtype=float32),\n",
       " array([0.978297], dtype=float32),\n",
       " array([0.9703982], dtype=float32),\n",
       " array([0.9501226], dtype=float32),\n",
       " array([0.9428704], dtype=float32),\n",
       " array([0.93557835], dtype=float32),\n",
       " array([0.92691934], dtype=float32),\n",
       " array([0.93284535], dtype=float32),\n",
       " array([0.93788505], dtype=float32),\n",
       " array([0.9413147], dtype=float32),\n",
       " array([0.94122887], dtype=float32),\n",
       " array([0.9409472], dtype=float32),\n",
       " array([0.9378377], dtype=float32),\n",
       " array([0.9364501], dtype=float32),\n",
       " array([0.92925274], dtype=float32),\n",
       " array([0.9188397], dtype=float32),\n",
       " array([0.9096229], dtype=float32),\n",
       " array([0.9039177], dtype=float32),\n",
       " array([0.88662815], dtype=float32),\n",
       " array([0.8782594], dtype=float32),\n",
       " array([0.87130857], dtype=float32),\n",
       " array([0.876863], dtype=float32),\n",
       " array([0.8738929], dtype=float32),\n",
       " array([0.8697579], dtype=float32),\n",
       " array([0.8666811], dtype=float32),\n",
       " array([0.86429155], dtype=float32),\n",
       " array([0.86685133], dtype=float32),\n",
       " array([0.8661866], dtype=float32),\n",
       " array([0.86518633], dtype=float32),\n",
       " array([0.86443293], dtype=float32),\n",
       " array([0.86393774], dtype=float32),\n",
       " array([0.8651178], dtype=float32),\n",
       " array([0.8651984], dtype=float32),\n",
       " array([0.8651581], dtype=float32),\n",
       " array([0.86518836], dtype=float32),\n",
       " array([0.86530113], dtype=float32),\n",
       " array([0.8667904], dtype=float32),\n",
       " array([0.86740935], dtype=float32),\n",
       " array([0.86792314], dtype=float32),\n",
       " array([0.8684685], dtype=float32),\n",
       " array([0.8690617], dtype=float32),\n",
       " array([0.8648281], dtype=float32),\n",
       " array([0.86345446], dtype=float32),\n",
       " array([0.86240435], dtype=float32),\n",
       " array([0.86126614], dtype=float32),\n",
       " array([0.85997057], dtype=float32),\n",
       " array([0.8560219], dtype=float32),\n",
       " array([0.8538004], dtype=float32),\n",
       " array([0.85182023], dtype=float32),\n",
       " array([0.8498113], dtype=float32),\n",
       " array([0.8477403], dtype=float32),\n",
       " array([0.85159993], dtype=float32),\n",
       " array([0.8520129], dtype=float32),\n",
       " array([0.85206676], dtype=float32),\n",
       " array([0.85225534], dtype=float32),\n",
       " array([0.8526633], dtype=float32),\n",
       " array([0.8497547], dtype=float32),\n",
       " array([0.8487495], dtype=float32),\n",
       " array([0.8479544], dtype=float32),\n",
       " array([0.84711933], dtype=float32),\n",
       " array([0.8461933], dtype=float32),\n",
       " array([0.85509396], dtype=float32),\n",
       " array([0.8581387], dtype=float32),\n",
       " array([0.8605195], dtype=float32),\n",
       " array([0.8630787], dtype=float32),\n",
       " array([0.8659575], dtype=float32),\n",
       " array([0.85672355], dtype=float32),\n",
       " array([0.85453343], dtype=float32),\n",
       " array([0.85310245], dtype=float32),\n",
       " array([0.8514445], dtype=float32),\n",
       " array([0.8493844], dtype=float32),\n",
       " array([0.8607217], dtype=float32),\n",
       " array([0.8642243], dtype=float32),\n",
       " array([0.86682475], dtype=float32),\n",
       " array([0.8696561], dtype=float32),\n",
       " array([0.8729093], dtype=float32),\n",
       " array([0.8719647], dtype=float32),\n",
       " array([0.8732996], dtype=float32),\n",
       " array([0.8747803], dtype=float32),\n",
       " array([0.87616396], dtype=float32),\n",
       " array([0.8773632], dtype=float32),\n",
       " array([0.8663217], dtype=float32),\n",
       " array([0.8626611], dtype=float32),\n",
       " array([0.8598509], dtype=float32),\n",
       " array([0.8567976], dtype=float32),\n",
       " array([0.85333407], dtype=float32)]"
      ]
     },
     "execution_count": 257,
     "metadata": {},
     "output_type": "execute_result"
    }
   ],
   "source": [
    "test_prediction = []\n",
    "rander = 0\n",
    "pred_info = scaled_train[-n_input:].reshape(1,n_input,n_features)\n",
    "\n",
    "for i in range(len(test)-n_input):\n",
    "    pred_info = model.predict(scaled_test[i:i+n_input].reshape(1,n_input,n_features))[0]\n",
    "    test_prediction.append(pred_info)\n",
    "    pred_info = np.append(pred_info[:,1:,:],[[pred_info]],axis=1)\n",
    "\n",
    "for i in range(n_input + days):\n",
    "    if i % 5 == 0:\n",
    "        rander = ((np.random.rand(1)-0.5)/50)\n",
    "    pred_info = model.predict(pred_info + rander)[0]\n",
    "    test_prediction.append(pred_info)\n",
    "    pred_info = np.append(pred_info[:,1:,:],[[pred_info]],axis=1)\n",
    "    \n",
    "test_prediction"
   ]
  },
  {
   "cell_type": "code",
   "execution_count": 258,
   "metadata": {},
   "outputs": [
    {
     "data": {
      "text/plain": [
       "array([115.39913541, 116.35651404, 119.39982712, 119.95525583,\n",
       "       120.74247385, 121.2037574 , 120.82623717, 118.95892218,\n",
       "       118.64458641, 118.05727281, 117.17614067, 116.46421413,\n",
       "       116.24289907, 116.55988421, 114.59729963, 115.17879077,\n",
       "       113.02595964, 111.63879728, 111.41105904, 113.19011294,\n",
       "       115.28190066, 116.68021503, 116.98609438, 117.26752863,\n",
       "       118.60010159, 118.79620139, 118.99019094, 119.75464284,\n",
       "       119.89898746, 119.34315827, 119.33032729, 118.75257916,\n",
       "       116.95833757, 116.51054734, 116.55828227, 116.60279789,\n",
       "       117.60493859, 119.7678281 , 121.04163734, 121.9330281 ,\n",
       "       122.39206276, 123.26942108, 123.68812982, 122.88444563,\n",
       "       123.23331567, 123.00379064, 122.57300569, 124.53126194,\n",
       "       125.54296811, 126.60684536, 126.72047573, 127.7427948 ,\n",
       "       129.08849139, 129.51923013, 130.26319561, 132.49298177,\n",
       "       133.25310534, 133.33123103, 133.21435056, 131.86313958,\n",
       "       131.40581468, 129.19361912, 129.78758696, 130.1276771 ,\n",
       "       129.49329092, 129.14465193, 130.01175163, 129.36331762,\n",
       "       128.27722876, 128.20369326, 129.51326904, 131.49020953,\n",
       "       133.68093285, 136.80155525, 139.15409056, 140.3557044 ,\n",
       "       139.3350797 , 136.71521959, 135.77814255, 134.83592081,\n",
       "       133.71706907, 134.48278405, 135.13397526, 135.57712909,\n",
       "       135.56603869, 135.52964062, 135.12786014, 134.94856537,\n",
       "       134.01857387, 132.67307752, 131.48215359, 130.74496558,\n",
       "       128.5109435 , 127.42959887, 126.53146146, 127.24916425,\n",
       "       126.86539027, 126.33109493, 125.93353496, 125.6247752 ,\n",
       "       125.95553092, 125.86964195, 125.7403926 , 125.64304355,\n",
       "       125.57905811, 125.73153568, 125.74194833, 125.73674201,\n",
       "       125.74065445, 125.75522601, 125.94765982, 126.02763391,\n",
       "       126.09402227, 126.16449251, 126.24113948, 125.69410559,\n",
       "       125.51661301, 125.38092507, 125.23385406, 125.06645067,\n",
       "       124.55623074, 124.26918967, 124.01332494, 123.75374801,\n",
       "       123.48614594, 123.98485958, 124.03821672, 124.04517903,\n",
       "       124.0695471 , 124.12225729, 123.74643143, 123.61655054,\n",
       "       123.51381032, 123.40590999, 123.28625692, 124.43633121,\n",
       "       124.82974768, 125.137383  , 125.46806171, 125.84003675,\n",
       "       124.64689474, 124.36390475, 124.17900316, 123.96477364,\n",
       "       123.69858868, 125.16350705, 125.61608772, 125.95209598,\n",
       "       126.31794049, 126.73829738, 126.61624139, 126.78872789,\n",
       "       126.98005266, 127.15883912, 127.31379663, 125.88709392,\n",
       "       125.41410384, 125.05098572, 124.65646021, 124.20893184])"
      ]
     },
     "execution_count": 258,
     "metadata": {},
     "output_type": "execute_result"
    }
   ],
   "source": [
    "true_prediction = scaler.inverse_transform(test_prediction)\n",
    "true_prediction[:,0]"
   ]
  },
  {
   "cell_type": "code",
   "execution_count": 259,
   "metadata": {},
   "outputs": [
    {
     "data": {
      "text/plain": [
       "DatetimeIndex(['2020-10-02', '2020-10-05', '2020-10-06', '2020-10-07',\n",
       "               '2020-10-08', '2020-10-09', '2020-10-12', '2020-10-13',\n",
       "               '2020-10-14', '2020-10-15',\n",
       "               ...\n",
       "               '2021-04-17', '2021-04-18', '2021-04-19', '2021-04-20',\n",
       "               '2021-04-21', '2021-04-22', '2021-04-23', '2021-04-24',\n",
       "               '2021-04-25', '2021-04-26'],\n",
       "              dtype='datetime64[ns]', name='Date', length=160, freq=None)"
      ]
     },
     "execution_count": 259,
     "metadata": {},
     "output_type": "execute_result"
    }
   ],
   "source": [
    "time_series_array = test.index\n",
    "for k in range(0, days):\n",
    "    time_series_array = time_series_array.append(time_series_array[-1:] + pd.DateOffset(1))\n",
    "time_series_array"
   ]
  },
  {
   "cell_type": "code",
   "execution_count": 260,
   "metadata": {},
   "outputs": [
    {
     "data": {
      "text/html": [
       "<div>\n",
       "<style scoped>\n",
       "    .dataframe tbody tr th:only-of-type {\n",
       "        vertical-align: middle;\n",
       "    }\n",
       "\n",
       "    .dataframe tbody tr th {\n",
       "        vertical-align: top;\n",
       "    }\n",
       "\n",
       "    .dataframe thead th {\n",
       "        text-align: right;\n",
       "    }\n",
       "</style>\n",
       "<table border=\"1\" class=\"dataframe\">\n",
       "  <thead>\n",
       "    <tr style=\"text-align: right;\">\n",
       "      <th></th>\n",
       "      <th>Close</th>\n",
       "      <th>predicted</th>\n",
       "    </tr>\n",
       "    <tr>\n",
       "      <th>Date</th>\n",
       "      <th></th>\n",
       "      <th></th>\n",
       "    </tr>\n",
       "  </thead>\n",
       "  <tbody>\n",
       "    <tr>\n",
       "      <th>2020-10-02</th>\n",
       "      <td>NaN</td>\n",
       "      <td>NaN</td>\n",
       "    </tr>\n",
       "    <tr>\n",
       "      <th>2020-10-05</th>\n",
       "      <td>NaN</td>\n",
       "      <td>NaN</td>\n",
       "    </tr>\n",
       "    <tr>\n",
       "      <th>2020-10-06</th>\n",
       "      <td>NaN</td>\n",
       "      <td>NaN</td>\n",
       "    </tr>\n",
       "    <tr>\n",
       "      <th>2020-10-07</th>\n",
       "      <td>NaN</td>\n",
       "      <td>NaN</td>\n",
       "    </tr>\n",
       "    <tr>\n",
       "      <th>2020-10-08</th>\n",
       "      <td>NaN</td>\n",
       "      <td>NaN</td>\n",
       "    </tr>\n",
       "    <tr>\n",
       "      <th>...</th>\n",
       "      <td>...</td>\n",
       "      <td>...</td>\n",
       "    </tr>\n",
       "    <tr>\n",
       "      <th>2021-04-22</th>\n",
       "      <td>NaN</td>\n",
       "      <td>NaN</td>\n",
       "    </tr>\n",
       "    <tr>\n",
       "      <th>2021-04-23</th>\n",
       "      <td>NaN</td>\n",
       "      <td>NaN</td>\n",
       "    </tr>\n",
       "    <tr>\n",
       "      <th>2021-04-24</th>\n",
       "      <td>NaN</td>\n",
       "      <td>NaN</td>\n",
       "    </tr>\n",
       "    <tr>\n",
       "      <th>2021-04-25</th>\n",
       "      <td>NaN</td>\n",
       "      <td>NaN</td>\n",
       "    </tr>\n",
       "    <tr>\n",
       "      <th>2021-04-26</th>\n",
       "      <td>NaN</td>\n",
       "      <td>NaN</td>\n",
       "    </tr>\n",
       "  </tbody>\n",
       "</table>\n",
       "<p>160 rows × 2 columns</p>\n",
       "</div>"
      ],
      "text/plain": [
       "           Close predicted\n",
       "Date                      \n",
       "2020-10-02   NaN       NaN\n",
       "2020-10-05   NaN       NaN\n",
       "2020-10-06   NaN       NaN\n",
       "2020-10-07   NaN       NaN\n",
       "2020-10-08   NaN       NaN\n",
       "...          ...       ...\n",
       "2021-04-22   NaN       NaN\n",
       "2021-04-23   NaN       NaN\n",
       "2021-04-24   NaN       NaN\n",
       "2021-04-25   NaN       NaN\n",
       "2021-04-26   NaN       NaN\n",
       "\n",
       "[160 rows x 2 columns]"
      ]
     },
     "execution_count": 260,
     "metadata": {},
     "output_type": "execute_result"
    }
   ],
   "source": [
    "prediction_df = pd.DataFrame(columns=[\"Close\", \"predicted\"], index=time_series_array)\n",
    "prediction_df.loc[:,\"predicted\"] = true_prediction[:,0]\n",
    "prediction_df.iloc[:train[\"Close\"].shape[0],0] = test[\"Close\"]\n",
    "prediction_df"
   ]
  },
  {
   "cell_type": "code",
   "execution_count": 262,
   "metadata": {},
   "outputs": [
    {
     "data": {
      "text/plain": [
       "<AxesSubplot:title={'center':'pred'}, xlabel='Date'>"
      ]
     },
     "execution_count": 262,
     "metadata": {},
     "output_type": "execute_result"
    },
    {
     "data": {
      "image/png": "[encoded data removed]",
      "text/plain": [
       "<Figure size 576x432 with 1 Axes>"
      ]
     },
     "metadata": {
      "needs_background": "light"
     },
     "output_type": "display_data"
    }
   ],
   "source": [
    "prediction_df.plot(title=\"pred\")"
   ]
  },
  {
   "cell_type": "code",
   "execution_count": 264,
   "metadata": {},
   "outputs": [
    {
     "data": {
      "image/png": "[encoded data removed]",
      "text/plain": [
       "<Figure size 720x360 with 1 Axes>"
      ]
     },
     "metadata": {
      "needs_background": "light"
     },
     "output_type": "display_data"
    }
   ],
   "source": [
    "sum_errs = np.sum((np.array(prediction_df[\"Close\"][:5]) - np.array(prediction_df[\"predicted\"][:5]))**2)\n",
    "stdev = np.sqrt(1/(5-2) * sum_errs)\n",
    "interval = 1.96 * stdev\n",
    "\n",
    "fig= plt.figure(figsize=(10,5))\n",
    "df_forecast[\"Close\"].plot()\n",
    "df_forecast[\"predicted\"].plot()\n",
    "plt.fill_between(df_forecast.index, prediction_df[\"predicted\"] - interval, prediction_df[\"predicted\"] + interval, color=\"indigo\",alpha=0.09,label=\"\")\n",
    "plt.legend()\n",
    "plt.show()"
   ]
  },
  {
   "cell_type": "code",
   "execution_count": null,
   "metadata": {},
   "outputs": [],
   "source": []
  },
  {
   "cell_type": "code",
   "execution_count": null,
   "metadata": {},
   "outputs": [],
   "source": []
  }
 ],
 "metadata": {
  "kernelspec": {
   "display_name": "Python 3",
   "language": "python",
   "name": "python3"
  },
  "language_info": {
   "codemirror_mode": {
    "name": "ipython",
    "version": 3
   },
   "file_extension": ".py",
   "mimetype": "text/x-python",
   "name": "python",
   "nbconvert_exporter": "python",
   "pygments_lexer": "ipython3",
   "version": "3.7.7"
  },
  "toc": {
   "base_numbering": 1,
   "nav_menu": {},
   "number_sections": true,
   "sideBar": true,
   "skip_h1_title": false,
   "title_cell": "Table of Contents",
   "title_sidebar": "Contents",
   "toc_cell": false,
   "toc_position": {},
   "toc_section_display": true,
   "toc_window_display": false
  }
 },
 "nbformat": 4,
 "nbformat_minor": 4
}
